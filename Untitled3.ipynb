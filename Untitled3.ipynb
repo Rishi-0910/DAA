{
  "nbformat": 4,
  "nbformat_minor": 0,
  "metadata": {
    "colab": {
      "provenance": [],
      "authorship_tag": "ABX9TyNKCr/8xUR/cDvw3WcgGmsX",
      "include_colab_link": true
    },
    "kernelspec": {
      "name": "python3",
      "display_name": "Python 3"
    },
    "language_info": {
      "name": "python"
    }
  },
  "cells": [
    {
      "cell_type": "markdown",
      "metadata": {
        "id": "view-in-github",
        "colab_type": "text"
      },
      "source": [
        "<a href=\"https://colab.research.google.com/github/Rishi-0910/DAA/blob/main/Untitled3.ipynb\" target=\"_parent\"><img src=\"https://colab.research.google.com/assets/colab-badge.svg\" alt=\"Open In Colab\"/></a>"
      ]
    },
    {
      "cell_type": "code",
      "execution_count": 1,
      "metadata": {
        "colab": {
          "base_uri": "https://localhost:8080/"
        },
        "id": "W5iVsg9WLiyQ",
        "outputId": "2ee0a3cc-450f-4aa6-c92c-a6e04870320a"
      },
      "outputs": [
        {
          "output_type": "stream",
          "name": "stdout",
          "text": [
            "[10, 10, 10, 10, 10]\n"
          ]
        }
      ],
      "source": [
        "def greedy_coins(value):\n",
        "    coins = [10, 5, 2, 1]\n",
        "    result = []\n",
        "    for coin in coins:\n",
        "        while value >= coin:\n",
        "            value -= coin\n",
        "            result.append(coin)\n",
        "    return result\n",
        "\n",
        "print(greedy_coins(50))"
      ]
    },
    {
      "cell_type": "code",
      "source": [
        "def is_prime(n):\n",
        "    if n <= 1:\n",
        "        return False  # 0 and 1 are not prime\n",
        "    for i in range(2, int(n ** 0.5) + 1):  # Check from 2 to sqrt(n)\n",
        "        if n % i == 0:\n",
        "            return False  # If divisible, not prime\n",
        "    return True  # Otherwise, it's prime!\n",
        "\n",
        "number = int(input(\"Enter a number: \"))\n",
        "if is_prime(number):\n",
        "    print(f\"{number} is a Prime Number ✅\")\n",
        "else:\n",
        "    print(f\"{number} is Not a Prime Number ❌\")"
      ],
      "metadata": {
        "colab": {
          "base_uri": "https://localhost:8080/"
        },
        "id": "rH4gHpuKL4_y",
        "outputId": "e7df539e-8f06-47ae-9e7c-90390e34ac24"
      },
      "execution_count": 7,
      "outputs": [
        {
          "output_type": "stream",
          "name": "stdout",
          "text": [
            "Enter a number: 1317317371\n",
            "1317317371 is a Prime Number ✅\n"
          ]
        }
      ]
    }
  ]
}